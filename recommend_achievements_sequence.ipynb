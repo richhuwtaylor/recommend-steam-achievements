{
 "cells": [
  {
   "cell_type": "code",
   "execution_count": 68,
   "metadata": {},
   "outputs": [],
   "source": [
    "import itertools\n",
    "import numpy as np\n",
    "import os\n",
    "import pandas as pd\n",
    "import random\n",
    "import requests\n",
    "from matplotlib import pyplot as plt\n",
    "from spotlight.cross_validation import user_based_train_test_split\n",
    "from spotlight.evaluation import sequence_mrr_score, sequence_precision_recall_score\n",
    "from spotlight.interactions import Interactions\n",
    "from spotlight.sequence.implicit import ImplicitSequenceModel\n",
    "from tqdm import tqdm\n",
    "\n",
    "random_state = np.random.RandomState(42) # create random state for repeatability"
   ]
  },
  {
   "cell_type": "code",
   "execution_count": 3,
   "metadata": {},
   "outputs": [],
   "source": [
    "# Load Steam API key from environment variable\n",
    "API_KEY = os.environ.get('STEAM_API_KEY')\n",
    "if API_KEY is None:\n",
    "    print(\"API_KEY is not set. Please set the environment variable.\")\n",
    "    \n",
    "APP_ID = '1086940' # appid for Baldur's Gate 3"
   ]
  },
  {
   "cell_type": "markdown",
   "metadata": {},
   "source": [
    "## Recommending Steam Achievements Using Sequence Models\n",
    "\n",
    "We consider the family of implicit sequence models available in the <a href=\"https://maciejkula.github.io/spotlight/sequence/implicit.html\">Spotlight</a> library."
   ]
  },
  {
   "cell_type": "code",
   "execution_count": 4,
   "metadata": {},
   "outputs": [],
   "source": [
    "def retrieve_game_schema(api_key, app_id):\n",
    "    # Fetch game information from the schema endpoint\n",
    "    url = f\"http://api.steampowered.com/ISteamUserStats/GetSchemaForGame/v2/?key={api_key}&appid={app_id}&language=english\"\n",
    "    response = requests.get(url)\n",
    "\n",
    "    if response.status_code == 200:\n",
    "        return response.json()\n",
    "    else:\n",
    "        return None"
   ]
  },
  {
   "cell_type": "code",
   "execution_count": 5,
   "metadata": {},
   "outputs": [],
   "source": [
    "game_schema = retrieve_game_schema(API_KEY, APP_ID)\n",
    "df_achievements = pd.DataFrame(game_schema['game']['availableGameStats']['achievements'], columns=['name', 'displayName', 'description'])"
   ]
  },
  {
   "cell_type": "code",
   "execution_count": 6,
   "metadata": {},
   "outputs": [
    {
     "data": {
      "text/html": [
       "<div>\n",
       "<style scoped>\n",
       "    .dataframe tbody tr th:only-of-type {\n",
       "        vertical-align: middle;\n",
       "    }\n",
       "\n",
       "    .dataframe tbody tr th {\n",
       "        vertical-align: top;\n",
       "    }\n",
       "\n",
       "    .dataframe thead th {\n",
       "        text-align: right;\n",
       "    }\n",
       "</style>\n",
       "<table border=\"1\" class=\"dataframe\">\n",
       "  <thead>\n",
       "    <tr style=\"text-align: right;\">\n",
       "      <th></th>\n",
       "      <th>name</th>\n",
       "      <th>displayName</th>\n",
       "      <th>description</th>\n",
       "    </tr>\n",
       "  </thead>\n",
       "  <tbody>\n",
       "    <tr>\n",
       "      <th>0</th>\n",
       "      <td>BG3_Quest01</td>\n",
       "      <td>Descent From Avernus</td>\n",
       "      <td>Take control of the nautiloid and escape the H...</td>\n",
       "    </tr>\n",
       "    <tr>\n",
       "      <th>1</th>\n",
       "      <td>BG3_Quest02</td>\n",
       "      <td>The Plot Thickens</td>\n",
       "      <td>NaN</td>\n",
       "    </tr>\n",
       "    <tr>\n",
       "      <th>2</th>\n",
       "      <td>BG3_Quest03</td>\n",
       "      <td>The City Awaits</td>\n",
       "      <td>NaN</td>\n",
       "    </tr>\n",
       "    <tr>\n",
       "      <th>3</th>\n",
       "      <td>BG3_Quest04</td>\n",
       "      <td>All's Well That Ends Well</td>\n",
       "      <td>NaN</td>\n",
       "    </tr>\n",
       "    <tr>\n",
       "      <th>4</th>\n",
       "      <td>BG3_Quest05</td>\n",
       "      <td>Absolute Power Corrupts</td>\n",
       "      <td>NaN</td>\n",
       "    </tr>\n",
       "  </tbody>\n",
       "</table>\n",
       "</div>"
      ],
      "text/plain": [
       "          name                displayName  \\\n",
       "0  BG3_Quest01       Descent From Avernus   \n",
       "1  BG3_Quest02          The Plot Thickens   \n",
       "2  BG3_Quest03            The City Awaits   \n",
       "3  BG3_Quest04  All's Well That Ends Well   \n",
       "4  BG3_Quest05    Absolute Power Corrupts   \n",
       "\n",
       "                                         description  \n",
       "0  Take control of the nautiloid and escape the H...  \n",
       "1                                                NaN  \n",
       "2                                                NaN  \n",
       "3                                                NaN  \n",
       "4                                                NaN  "
      ]
     },
     "execution_count": 6,
     "metadata": {},
     "output_type": "execute_result"
    }
   ],
   "source": [
    "df_achievements.head()"
   ]
  },
  {
   "cell_type": "code",
   "execution_count": 7,
   "metadata": {},
   "outputs": [
    {
     "data": {
      "text/html": [
       "<div>\n",
       "<style scoped>\n",
       "    .dataframe tbody tr th:only-of-type {\n",
       "        vertical-align: middle;\n",
       "    }\n",
       "\n",
       "    .dataframe tbody tr th {\n",
       "        vertical-align: top;\n",
       "    }\n",
       "\n",
       "    .dataframe thead th {\n",
       "        text-align: right;\n",
       "    }\n",
       "</style>\n",
       "<table border=\"1\" class=\"dataframe\">\n",
       "  <thead>\n",
       "    <tr style=\"text-align: right;\">\n",
       "      <th></th>\n",
       "      <th>steam_id</th>\n",
       "      <th>achievement_name</th>\n",
       "      <th>timestamp</th>\n",
       "    </tr>\n",
       "  </thead>\n",
       "  <tbody>\n",
       "    <tr>\n",
       "      <th>0</th>\n",
       "      <td>76561199004154858</td>\n",
       "      <td>BG3_Quest01</td>\n",
       "      <td>1691436759</td>\n",
       "    </tr>\n",
       "    <tr>\n",
       "      <th>1</th>\n",
       "      <td>76561199004154858</td>\n",
       "      <td>BG3_Quest10</td>\n",
       "      <td>1691545351</td>\n",
       "    </tr>\n",
       "    <tr>\n",
       "      <th>2</th>\n",
       "      <td>76561199004154858</td>\n",
       "      <td>BG3_Quest11</td>\n",
       "      <td>1691847458</td>\n",
       "    </tr>\n",
       "    <tr>\n",
       "      <th>3</th>\n",
       "      <td>76561199004154858</td>\n",
       "      <td>BG3_Quest13</td>\n",
       "      <td>1691450888</td>\n",
       "    </tr>\n",
       "    <tr>\n",
       "      <th>4</th>\n",
       "      <td>76561199004154858</td>\n",
       "      <td>BG3_Quest29</td>\n",
       "      <td>1691441756</td>\n",
       "    </tr>\n",
       "  </tbody>\n",
       "</table>\n",
       "</div>"
      ],
      "text/plain": [
       "            steam_id achievement_name   timestamp\n",
       "0  76561199004154858      BG3_Quest01  1691436759\n",
       "1  76561199004154858      BG3_Quest10  1691545351\n",
       "2  76561199004154858      BG3_Quest11  1691847458\n",
       "3  76561199004154858      BG3_Quest13  1691450888\n",
       "4  76561199004154858      BG3_Quest29  1691441756"
      ]
     },
     "execution_count": 7,
     "metadata": {},
     "output_type": "execute_result"
    }
   ],
   "source": [
    "df_interactions = pd.read_csv('./data/buldars_gate_3_achievements_long_2023-11-04.csv', dtype={'steam_id': int, 'timestamp': int})\n",
    "df_interactions.head()"
   ]
  },
  {
   "cell_type": "code",
   "execution_count": 8,
   "metadata": {},
   "outputs": [],
   "source": [
    "# Create dictionaries of Steam IDs and achievement names onto internal IDs used by the model\n",
    "steam_id_dict = {steam_id: idx + 1 for idx, steam_id in enumerate(df_interactions['steam_id'].unique())}\n",
    "achievement_name_dict = {ach_name: idx + 1 for idx, ach_name in enumerate(df_interactions['achievement_name'].unique())}"
   ]
  },
  {
   "cell_type": "markdown",
   "metadata": {},
   "source": [
    "### Prepare Sequences from Interactions"
   ]
  },
  {
   "cell_type": "code",
   "execution_count": 10,
   "metadata": {},
   "outputs": [
    {
     "data": {
      "text/html": [
       "<div>\n",
       "<style scoped>\n",
       "    .dataframe tbody tr th:only-of-type {\n",
       "        vertical-align: middle;\n",
       "    }\n",
       "\n",
       "    .dataframe tbody tr th {\n",
       "        vertical-align: top;\n",
       "    }\n",
       "\n",
       "    .dataframe thead th {\n",
       "        text-align: right;\n",
       "    }\n",
       "</style>\n",
       "<table border=\"1\" class=\"dataframe\">\n",
       "  <thead>\n",
       "    <tr style=\"text-align: right;\">\n",
       "      <th></th>\n",
       "      <th>steam_id</th>\n",
       "      <th>achievement_name</th>\n",
       "      <th>timestamp</th>\n",
       "    </tr>\n",
       "  </thead>\n",
       "  <tbody>\n",
       "    <tr>\n",
       "      <th>0</th>\n",
       "      <td>1</td>\n",
       "      <td>1</td>\n",
       "      <td>1691436759</td>\n",
       "    </tr>\n",
       "    <tr>\n",
       "      <th>1</th>\n",
       "      <td>1</td>\n",
       "      <td>2</td>\n",
       "      <td>1691545351</td>\n",
       "    </tr>\n",
       "    <tr>\n",
       "      <th>2</th>\n",
       "      <td>1</td>\n",
       "      <td>3</td>\n",
       "      <td>1691847458</td>\n",
       "    </tr>\n",
       "    <tr>\n",
       "      <th>3</th>\n",
       "      <td>1</td>\n",
       "      <td>4</td>\n",
       "      <td>1691450888</td>\n",
       "    </tr>\n",
       "    <tr>\n",
       "      <th>4</th>\n",
       "      <td>1</td>\n",
       "      <td>5</td>\n",
       "      <td>1691441756</td>\n",
       "    </tr>\n",
       "    <tr>\n",
       "      <th>...</th>\n",
       "      <td>...</td>\n",
       "      <td>...</td>\n",
       "      <td>...</td>\n",
       "    </tr>\n",
       "    <tr>\n",
       "      <th>57455</th>\n",
       "      <td>2596</td>\n",
       "      <td>10</td>\n",
       "      <td>1691271021</td>\n",
       "    </tr>\n",
       "    <tr>\n",
       "      <th>57456</th>\n",
       "      <td>2596</td>\n",
       "      <td>31</td>\n",
       "      <td>1691320973</td>\n",
       "    </tr>\n",
       "    <tr>\n",
       "      <th>57457</th>\n",
       "      <td>2596</td>\n",
       "      <td>22</td>\n",
       "      <td>1694032025</td>\n",
       "    </tr>\n",
       "    <tr>\n",
       "      <th>57458</th>\n",
       "      <td>2596</td>\n",
       "      <td>11</td>\n",
       "      <td>1691606533</td>\n",
       "    </tr>\n",
       "    <tr>\n",
       "      <th>57459</th>\n",
       "      <td>2596</td>\n",
       "      <td>23</td>\n",
       "      <td>1693426470</td>\n",
       "    </tr>\n",
       "  </tbody>\n",
       "</table>\n",
       "<p>57460 rows × 3 columns</p>\n",
       "</div>"
      ],
      "text/plain": [
       "       steam_id  achievement_name   timestamp\n",
       "0             1                 1  1691436759\n",
       "1             1                 2  1691545351\n",
       "2             1                 3  1691847458\n",
       "3             1                 4  1691450888\n",
       "4             1                 5  1691441756\n",
       "...         ...               ...         ...\n",
       "57455      2596                10  1691271021\n",
       "57456      2596                31  1691320973\n",
       "57457      2596                22  1694032025\n",
       "57458      2596                11  1691606533\n",
       "57459      2596                23  1693426470\n",
       "\n",
       "[57460 rows x 3 columns]"
      ]
     },
     "execution_count": 10,
     "metadata": {},
     "output_type": "execute_result"
    }
   ],
   "source": [
    "df_modified = df_interactions.copy()\n",
    "# Replace 'steam_id' and 'achievement_name' with integers using the dictionaries\n",
    "df_modified['steam_id'] = df_modified['steam_id'].map(steam_id_dict)\n",
    "df_modified['achievement_name'] = df_modified['achievement_name'].map(achievement_name_dict)\n",
    "df_modified.dropna()\n",
    "df_modified = df_modified[df_modified['timestamp'] != 0]\n",
    "df_modified\n"
   ]
  },
  {
   "cell_type": "code",
   "execution_count": 11,
   "metadata": {},
   "outputs": [],
   "source": [
    "interactions = Interactions(\n",
    "    user_ids=df_modified['steam_id'].values.astype(np.int32), # need to convert to int32 for user_based_train_test_split\n",
    "    item_ids=df_modified['achievement_name'].values.astype(np.int32),\n",
    "    timestamps=df_modified['timestamp'].values.astype(np.int32)\n",
    ")"
   ]
  },
  {
   "cell_type": "code",
   "execution_count": 12,
   "metadata": {},
   "outputs": [],
   "source": [
    "# Split interactions between train, eval and test sets with ratio 0.6:0.2:0.2 based on user ids, \n",
    "# so that a given user’s entire interaction history is either in the train, eval or test set.\n",
    "rest_interactions, test_interactions = user_based_train_test_split(interactions, test_percentage=0.2, random_state=random_state)\n",
    "train_interactions, eval_interactions = user_based_train_test_split(rest_interactions, test_percentage=0.25, random_state=random_state)"
   ]
  },
  {
   "cell_type": "code",
   "execution_count": 13,
   "metadata": {},
   "outputs": [],
   "source": [
    "# Convert the interaction sets into sequences\n",
    "max_sequence_length = len(achievement_name_dict.keys())\n",
    "\n",
    "def interactions_to_sequences(interactions, max_sequence_length):\n",
    "    return interactions.to_sequence(max_sequence_length=max_sequence_length, min_sequence_length=None, step_size=None)\n",
    "\n",
    "rest_sequences, train_sequences, eval_sequences, test_sequences = [\n",
    "    interactions_to_sequences(interaction_set, max_sequence_length) for interaction_set in [rest_interactions, train_interactions, eval_interactions, test_interactions]\n",
    "]\n",
    "\n",
    "all_sequences = interactions_to_sequences(interactions, max_sequence_length)"
   ]
  },
  {
   "cell_type": "markdown",
   "metadata": {},
   "source": [
    "We plot the distribution of the number of achievements unlocked per player:"
   ]
  },
  {
   "cell_type": "code",
   "execution_count": 55,
   "metadata": {},
   "outputs": [
    {
     "data": {
      "image/png": "[encoded data removed]",
      "text/plain": [
       "<Figure size 1000x600 with 1 Axes>"
      ]
     },
     "metadata": {},
     "output_type": "display_data"
    }
   ],
   "source": [
    "sequence_lengths = np.count_nonzero(all_sequences.sequences, axis=1)\n",
    "plt.figure(figsize=(10, 6))\n",
    "plt.hist(sequence_lengths, bins=50, edgecolor='black')\n",
    "plt.xlabel('Number of Achievements')\n",
    "plt.ylabel('Frequency')\n",
    "plt.title('Number of Achievements Unlocked by Player')\n",
    "plt.show()"
   ]
  },
  {
   "cell_type": "markdown",
   "metadata": {},
   "source": [
    "We examine the distribution of intervals between consecutive achivement unlocks."
   ]
  },
  {
   "cell_type": "code",
   "execution_count": 42,
   "metadata": {},
   "outputs": [
    {
     "data": {
      "image/png": "[encoded data removed]",
      "text/plain": [
       "<Figure size 1000x600 with 1 Axes>"
      ]
     },
     "metadata": {},
     "output_type": "display_data"
    }
   ],
   "source": [
    "# Check the distribution of intervals between achievement unlocks\n",
    "df_intervals = df_interactions.copy()\n",
    "df_intervals.sort_values(by=['steam_id', 'timestamp'], inplace=True)\n",
    "\n",
    "# Calculate the time differences between consecutive rows for each steam_id\n",
    "df_intervals['time_diff'] = df_intervals.groupby('steam_id')['timestamp'].diff()\n",
    "df_intervals['time_diff_seconds'] = df_intervals['time_diff'].astype('timedelta64[s]')\n",
    "\n",
    "# Convert seconds to days and take the logarithm\n",
    "df_intervals['log_days'] = np.log1p(df_intervals['time_diff_seconds'].astype('timedelta64[s]').view('float') / (24 * 3600))\n",
    "\n",
    "# Plot the distribution of log-transformed time differences\n",
    "plt.figure(figsize=(10, 6))\n",
    "plt.hist(df_intervals['log_days'].dropna(), bins=50, edgecolor='black')\n",
    "plt.title('Distribution of Log Intervals Between Consecutive Achievement Unlocks')\n",
    "plt.xlabel('Log of Time Interval (days)')\n",
    "plt.ylabel('Frequency')\n",
    "plt.show()"
   ]
  },
  {
   "cell_type": "code",
   "execution_count": 51,
   "metadata": {},
   "outputs": [
    {
     "data": {
      "text/html": [
       "<div>\n",
       "<style scoped>\n",
       "    .dataframe tbody tr th:only-of-type {\n",
       "        vertical-align: middle;\n",
       "    }\n",
       "\n",
       "    .dataframe tbody tr th {\n",
       "        vertical-align: top;\n",
       "    }\n",
       "\n",
       "    .dataframe thead th {\n",
       "        text-align: right;\n",
       "    }\n",
       "</style>\n",
       "<table border=\"1\" class=\"dataframe\">\n",
       "  <thead>\n",
       "    <tr style=\"text-align: right;\">\n",
       "      <th></th>\n",
       "      <th>count</th>\n",
       "      <th>mean</th>\n",
       "      <th>std</th>\n",
       "      <th>min</th>\n",
       "      <th>25%</th>\n",
       "      <th>50%</th>\n",
       "      <th>75%</th>\n",
       "      <th>max</th>\n",
       "    </tr>\n",
       "  </thead>\n",
       "  <tbody>\n",
       "    <tr>\n",
       "      <th>steam_id</th>\n",
       "      <td>57460.0</td>\n",
       "      <td>76561198255625184.0</td>\n",
       "      <td>358200725.924441</td>\n",
       "      <td>76561197960455536.0</td>\n",
       "      <td>76561198037585008.0</td>\n",
       "      <td>76561198101764240.0</td>\n",
       "      <td>76561198292677152.0</td>\n",
       "      <td>76561199564403936.0</td>\n",
       "    </tr>\n",
       "    <tr>\n",
       "      <th>timestamp</th>\n",
       "      <td>57460.0</td>\n",
       "      <td>1695091605.507884</td>\n",
       "      <td>2433149.514333</td>\n",
       "      <td>1691079080.0</td>\n",
       "      <td>1692837280.25</td>\n",
       "      <td>1695160278.5</td>\n",
       "      <td>1697392578.0</td>\n",
       "      <td>1699091481.0</td>\n",
       "    </tr>\n",
       "    <tr>\n",
       "      <th>time_diff</th>\n",
       "      <td>54864.0</td>\n",
       "      <td>185611.949457</td>\n",
       "      <td>465818.90143</td>\n",
       "      <td>0.0</td>\n",
       "      <td>4166.0</td>\n",
       "      <td>48270.0</td>\n",
       "      <td>167247.25</td>\n",
       "      <td>7507612.0</td>\n",
       "    </tr>\n",
       "    <tr>\n",
       "      <th>time_diff_seconds</th>\n",
       "      <td>54864</td>\n",
       "      <td>2 days 03:33:31.949456838</td>\n",
       "      <td>5 days 09:23:38.901430090</td>\n",
       "      <td>0 days 00:00:00</td>\n",
       "      <td>0 days 01:09:26</td>\n",
       "      <td>0 days 13:24:30</td>\n",
       "      <td>1 days 22:27:27.250000</td>\n",
       "      <td>86 days 21:26:52</td>\n",
       "    </tr>\n",
       "    <tr>\n",
       "      <th>log_days</th>\n",
       "      <td>54864.0</td>\n",
       "      <td>0.68457</td>\n",
       "      <td>0.791202</td>\n",
       "      <td>0.0</td>\n",
       "      <td>0.047091</td>\n",
       "      <td>0.44384</td>\n",
       "      <td>1.076957</td>\n",
       "      <td>4.476128</td>\n",
       "    </tr>\n",
       "  </tbody>\n",
       "</table>\n",
       "</div>"
      ],
      "text/plain": [
       "                     count                       mean  \\\n",
       "steam_id           57460.0        76561198255625184.0   \n",
       "timestamp          57460.0          1695091605.507884   \n",
       "time_diff          54864.0              185611.949457   \n",
       "time_diff_seconds    54864  2 days 03:33:31.949456838   \n",
       "log_days           54864.0                    0.68457   \n",
       "\n",
       "                                         std                  min  \\\n",
       "steam_id                    358200725.924441  76561197960455536.0   \n",
       "timestamp                     2433149.514333         1691079080.0   \n",
       "time_diff                       465818.90143                  0.0   \n",
       "time_diff_seconds  5 days 09:23:38.901430090      0 days 00:00:00   \n",
       "log_days                            0.791202                  0.0   \n",
       "\n",
       "                                   25%                  50%  \\\n",
       "steam_id           76561198037585008.0  76561198101764240.0   \n",
       "timestamp                1692837280.25         1695160278.5   \n",
       "time_diff                       4166.0              48270.0   \n",
       "time_diff_seconds      0 days 01:09:26      0 days 13:24:30   \n",
       "log_days                      0.047091              0.44384   \n",
       "\n",
       "                                      75%                  max  \n",
       "steam_id              76561198292677152.0  76561199564403936.0  \n",
       "timestamp                    1697392578.0         1699091481.0  \n",
       "time_diff                       167247.25            7507612.0  \n",
       "time_diff_seconds  1 days 22:27:27.250000     86 days 21:26:52  \n",
       "log_days                         1.076957             4.476128  "
      ]
     },
     "execution_count": 51,
     "metadata": {},
     "output_type": "execute_result"
    }
   ],
   "source": [
    "df_intervals.describe().transpose()"
   ]
  },
  {
   "cell_type": "markdown",
   "metadata": {},
   "source": [
    "### Grid Search of Implicit Sequence Model Params\n",
    "\n",
    "We evaluate the mean_mrr, precision_at_1 and recall_at_1 of different loss functions and sequence representations."
   ]
  },
  {
   "cell_type": "code",
   "execution_count": 15,
   "metadata": {},
   "outputs": [],
   "source": [
    "def train_evaluate_model(param_grid, train_sequences, test_sequences, random_state_seed=42):\n",
    "    random_state = np.random.RandomState(random_state_seed)\n",
    "    \n",
    "    # Generate all combinations of parameters\n",
    "    param_combinations = list(itertools.product(*param_grid.values()))\n",
    "    \n",
    "    results = []\n",
    "\n",
    "    # Use tqdm to add a progress bar\n",
    "    for params in tqdm(param_combinations, desc=\"Grid Search Progress\"):\n",
    "        # Create model with current set of parameters\n",
    "        model = ImplicitSequenceModel(\n",
    "            loss=params[0],\n",
    "            representation=params[1],\n",
    "            embedding_dim=32,\n",
    "            n_iter=10,\n",
    "            batch_size=256,\n",
    "            l2=0.0,\n",
    "            learning_rate=0.01,\n",
    "            random_state=random_state\n",
    "        )\n",
    "\n",
    "        # Train the model\n",
    "        model.fit(train_sequences, verbose=False)\n",
    "\n",
    "        # Evaluate the model\n",
    "        user_mrr_scores = sequence_mrr_score(model, test_sequences, exclude_preceding=True)\n",
    "        precision_recall_scores = sequence_precision_recall_score(model, test_sequences, k=1, exclude_preceding=True)\n",
    "\n",
    "        # Store the results\n",
    "        result = {\n",
    "            'loss': params[0],\n",
    "            'representation': params[1],\n",
    "            'mrr_mean': user_mrr_scores.mean(),\n",
    "            'precision_mean': precision_recall_scores[0].mean(),\n",
    "            'recall_mean': precision_recall_scores[1].mean()\n",
    "        }\n",
    "        results.append(result)\n",
    "\n",
    "    return results"
   ]
  },
  {
   "cell_type": "code",
   "execution_count": 16,
   "metadata": {},
   "outputs": [],
   "source": [
    "param_grid = {\n",
    "    'loss': ['pointwise', 'bpr', 'hinge', 'adaptive_hinge'],\n",
    "    'representation': ['pooling', 'cnn', 'lstm', 'mixture']\n",
    "}"
   ]
  },
  {
   "cell_type": "code",
   "execution_count": 17,
   "metadata": {},
   "outputs": [
    {
     "name": "stderr",
     "output_type": "stream",
     "text": [
      "Grid Search Progress: 100%|██████████| 16/16 [00:57<00:00,  3.58s/it]\n"
     ]
    }
   ],
   "source": [
    "results = train_evaluate_model(param_grid, train_sequences, eval_sequences)"
   ]
  },
  {
   "cell_type": "code",
   "execution_count": 18,
   "metadata": {},
   "outputs": [],
   "source": [
    "df_results = pd.DataFrame(results)"
   ]
  },
  {
   "cell_type": "code",
   "execution_count": 46,
   "metadata": {},
   "outputs": [
    {
     "data": {
      "text/html": [
       "<div>\n",
       "<style scoped>\n",
       "    .dataframe tbody tr th:only-of-type {\n",
       "        vertical-align: middle;\n",
       "    }\n",
       "\n",
       "    .dataframe tbody tr th {\n",
       "        vertical-align: top;\n",
       "    }\n",
       "\n",
       "    .dataframe thead th {\n",
       "        text-align: right;\n",
       "    }\n",
       "</style>\n",
       "<table border=\"1\" class=\"dataframe\">\n",
       "  <thead>\n",
       "    <tr style=\"text-align: right;\">\n",
       "      <th></th>\n",
       "      <th>loss</th>\n",
       "      <th>representation</th>\n",
       "      <th>mrr_mean</th>\n",
       "      <th>precision_mean</th>\n",
       "      <th>recall_mean</th>\n",
       "    </tr>\n",
       "  </thead>\n",
       "  <tbody>\n",
       "    <tr>\n",
       "      <th>14</th>\n",
       "      <td>adaptive_hinge</td>\n",
       "      <td>lstm</td>\n",
       "      <td>0.496594</td>\n",
       "      <td>0.359528</td>\n",
       "      <td>0.359528</td>\n",
       "    </tr>\n",
       "    <tr>\n",
       "      <th>9</th>\n",
       "      <td>hinge</td>\n",
       "      <td>cnn</td>\n",
       "      <td>0.489683</td>\n",
       "      <td>0.341847</td>\n",
       "      <td>0.341847</td>\n",
       "    </tr>\n",
       "    <tr>\n",
       "      <th>13</th>\n",
       "      <td>adaptive_hinge</td>\n",
       "      <td>cnn</td>\n",
       "      <td>0.484544</td>\n",
       "      <td>0.345776</td>\n",
       "      <td>0.345776</td>\n",
       "    </tr>\n",
       "    <tr>\n",
       "      <th>15</th>\n",
       "      <td>adaptive_hinge</td>\n",
       "      <td>mixture</td>\n",
       "      <td>0.458416</td>\n",
       "      <td>0.318271</td>\n",
       "      <td>0.318271</td>\n",
       "    </tr>\n",
       "    <tr>\n",
       "      <th>10</th>\n",
       "      <td>hinge</td>\n",
       "      <td>lstm</td>\n",
       "      <td>0.432601</td>\n",
       "      <td>0.271120</td>\n",
       "      <td>0.271120</td>\n",
       "    </tr>\n",
       "    <tr>\n",
       "      <th>5</th>\n",
       "      <td>bpr</td>\n",
       "      <td>cnn</td>\n",
       "      <td>0.430152</td>\n",
       "      <td>0.253438</td>\n",
       "      <td>0.253438</td>\n",
       "    </tr>\n",
       "    <tr>\n",
       "      <th>11</th>\n",
       "      <td>hinge</td>\n",
       "      <td>mixture</td>\n",
       "      <td>0.429247</td>\n",
       "      <td>0.265226</td>\n",
       "      <td>0.265226</td>\n",
       "    </tr>\n",
       "    <tr>\n",
       "      <th>4</th>\n",
       "      <td>bpr</td>\n",
       "      <td>pooling</td>\n",
       "      <td>0.358842</td>\n",
       "      <td>0.180747</td>\n",
       "      <td>0.180747</td>\n",
       "    </tr>\n",
       "    <tr>\n",
       "      <th>8</th>\n",
       "      <td>hinge</td>\n",
       "      <td>pooling</td>\n",
       "      <td>0.351494</td>\n",
       "      <td>0.192534</td>\n",
       "      <td>0.192534</td>\n",
       "    </tr>\n",
       "    <tr>\n",
       "      <th>6</th>\n",
       "      <td>bpr</td>\n",
       "      <td>lstm</td>\n",
       "      <td>0.335876</td>\n",
       "      <td>0.168959</td>\n",
       "      <td>0.168959</td>\n",
       "    </tr>\n",
       "    <tr>\n",
       "      <th>7</th>\n",
       "      <td>bpr</td>\n",
       "      <td>mixture</td>\n",
       "      <td>0.334895</td>\n",
       "      <td>0.174853</td>\n",
       "      <td>0.174853</td>\n",
       "    </tr>\n",
       "    <tr>\n",
       "      <th>1</th>\n",
       "      <td>pointwise</td>\n",
       "      <td>cnn</td>\n",
       "      <td>0.328536</td>\n",
       "      <td>0.178782</td>\n",
       "      <td>0.178782</td>\n",
       "    </tr>\n",
       "    <tr>\n",
       "      <th>0</th>\n",
       "      <td>pointwise</td>\n",
       "      <td>pooling</td>\n",
       "      <td>0.315806</td>\n",
       "      <td>0.147348</td>\n",
       "      <td>0.147348</td>\n",
       "    </tr>\n",
       "    <tr>\n",
       "      <th>12</th>\n",
       "      <td>adaptive_hinge</td>\n",
       "      <td>pooling</td>\n",
       "      <td>0.302908</td>\n",
       "      <td>0.161100</td>\n",
       "      <td>0.161100</td>\n",
       "    </tr>\n",
       "    <tr>\n",
       "      <th>3</th>\n",
       "      <td>pointwise</td>\n",
       "      <td>mixture</td>\n",
       "      <td>0.301347</td>\n",
       "      <td>0.117878</td>\n",
       "      <td>0.117878</td>\n",
       "    </tr>\n",
       "    <tr>\n",
       "      <th>2</th>\n",
       "      <td>pointwise</td>\n",
       "      <td>lstm</td>\n",
       "      <td>0.299989</td>\n",
       "      <td>0.133595</td>\n",
       "      <td>0.133595</td>\n",
       "    </tr>\n",
       "  </tbody>\n",
       "</table>\n",
       "</div>"
      ],
      "text/plain": [
       "              loss representation  mrr_mean  precision_mean  recall_mean\n",
       "14  adaptive_hinge           lstm  0.496594        0.359528     0.359528\n",
       "9            hinge            cnn  0.489683        0.341847     0.341847\n",
       "13  adaptive_hinge            cnn  0.484544        0.345776     0.345776\n",
       "15  adaptive_hinge        mixture  0.458416        0.318271     0.318271\n",
       "10           hinge           lstm  0.432601        0.271120     0.271120\n",
       "5              bpr            cnn  0.430152        0.253438     0.253438\n",
       "11           hinge        mixture  0.429247        0.265226     0.265226\n",
       "4              bpr        pooling  0.358842        0.180747     0.180747\n",
       "8            hinge        pooling  0.351494        0.192534     0.192534\n",
       "6              bpr           lstm  0.335876        0.168959     0.168959\n",
       "7              bpr        mixture  0.334895        0.174853     0.174853\n",
       "1        pointwise            cnn  0.328536        0.178782     0.178782\n",
       "0        pointwise        pooling  0.315806        0.147348     0.147348\n",
       "12  adaptive_hinge        pooling  0.302908        0.161100     0.161100\n",
       "3        pointwise        mixture  0.301347        0.117878     0.117878\n",
       "2        pointwise           lstm  0.299989        0.133595     0.133595"
      ]
     },
     "execution_count": 46,
     "metadata": {},
     "output_type": "execute_result"
    }
   ],
   "source": [
    "df_results.sort_values(by='mrr_mean', ascending=False)"
   ]
  },
  {
   "cell_type": "markdown",
   "metadata": {},
   "source": [
    "### Test Implicit Sequence Model\n",
    "\n",
    "Test a model with `adaptive_hinge` loss and `lstm` representation on the test dataset."
   ]
  },
  {
   "cell_type": "code",
   "execution_count": 131,
   "metadata": {},
   "outputs": [],
   "source": [
    "loss = 'adaptive_hinge'\n",
    "representation = 'lstm'\n",
    "\n",
    "model = ImplicitSequenceModel(\n",
    "    loss=loss,\n",
    "    representation=representation,\n",
    "    embedding_dim=32,\n",
    "    n_iter=10,\n",
    "    batch_size=256,\n",
    "    l2=0.0,\n",
    "    learning_rate=0.01,\n",
    "    random_state=random_state\n",
    ")"
   ]
  },
  {
   "cell_type": "code",
   "execution_count": 132,
   "metadata": {},
   "outputs": [],
   "source": [
    "# Train model on rest_sequences (i.e. on train and eval datasets combined)\n",
    "model.fit(rest_sequences, verbose=False)"
   ]
  },
  {
   "cell_type": "code",
   "execution_count": 133,
   "metadata": {},
   "outputs": [
    {
     "name": "stdout",
     "output_type": "stream",
     "text": [
      "MRR Score of adaptive_hinge loss, lstm representation model: 0.48\n"
     ]
    }
   ],
   "source": [
    "# Compute mean reciprocal rank (MRR) scores. Each sequence in test is split into two parts: \n",
    "# the first part, containing all but the last elements, is used to predict the last element.\n",
    "# The reciprocal rank of the last element is returned for each sequence.\n",
    "user_mrr_scores = sequence_mrr_score(model, test_sequences, exclude_preceding=True)\n",
    "mrr_score = user_mrr_scores.mean()\n",
    "print(f'MRR Score of {loss} loss, {representation} representation model: {mrr_score:.2f}')"
   ]
  },
  {
   "cell_type": "code",
   "execution_count": 23,
   "metadata": {},
   "outputs": [
    {
     "data": {
      "text/plain": [
       "(0.36246786632390743, 0.36246786632390743)"
      ]
     },
     "execution_count": 23,
     "metadata": {},
     "output_type": "execute_result"
    }
   ],
   "source": [
    "# Compute sequence precision and recall scores. \n",
    "# Each sequence in test is split into two parts: \n",
    "# the first part, containing all but the last k elements, is used to predict the last k elements.\n",
    "precision_recall_scores = sequence_precision_recall_score(model, train_sequences, k=1, exclude_preceding=True)\n",
    "precision_recall_scores[0].mean(), precision_recall_scores[1].mean()"
   ]
  },
  {
   "cell_type": "markdown",
   "metadata": {},
   "source": [
    "How does this performance compare to that of randomly picking one of the remaining available achievements, or simply picking the next most popular achievement?"
   ]
  },
  {
   "cell_type": "code",
   "execution_count": 129,
   "metadata": {},
   "outputs": [
    {
     "name": "stdout",
     "output_type": "stream",
     "text": [
      "MRR Score of randomly ranking possible achievements: 0.15\n"
     ]
    }
   ],
   "source": [
    "# Get the possible achievements, i.e. for each player remove all achievements (except their most recent) from the game's full achievement set\n",
    "possible_achievements = [list(set(achievement_name_dict.values()) - set(np.trim_zeros(sequence[:-1]))) for sequence in all_sequences.sequences]\n",
    "\n",
    "# Randomize the order of the possible achievements for each player\n",
    "for inner_list in possible_achievements:\n",
    "    random.shuffle(inner_list)\n",
    "possible_achievements\n",
    "\n",
    "random_mrr_scores = [1 / (possible_achievements[i].index(sequence[-1]) + 1) for i, sequence in enumerate(all_sequences.sequences)]\n",
    "random_mrr = np.mean(random_mrr_scores)\n",
    "\n",
    "print(f'MRR Score of randomly ranking possible achievements: {random_mrr:.2f}')"
   ]
  },
  {
   "cell_type": "code",
   "execution_count": 130,
   "metadata": {},
   "outputs": [
    {
     "name": "stdout",
     "output_type": "stream",
     "text": [
      "MRR Score of popularity ranking possible achievements: 0.34\n"
     ]
    }
   ],
   "source": [
    "achievement_counts = df_interactions['achievement_name'].value_counts()\n",
    "\n",
    "# Create a list of achievement names ordered by popularity\n",
    "ordered_achievements = achievement_counts.index.map(achievement_name_dict).tolist()\n",
    "\n",
    "ordered_possible_achievements = [\n",
    "    sorted(sublist, key=lambda x: ordered_achievements.index(x)) for sublist in possible_achievements\n",
    "]\n",
    "\n",
    "ordered_mrr_scores = [1 / (ordered_possible_achievements[i].index(sequence[-1]) + 1) for i, sequence in enumerate(all_sequences.sequences)]\n",
    "ordered_mrr = np.mean(ordered_mrr_scores)\n",
    "\n",
    "print(f'MRR Score of popularity ranking possible achievements: {ordered_mrr:.2f}')"
   ]
  },
  {
   "cell_type": "markdown",
   "metadata": {},
   "source": [
    "We see that our sequence model performs better than random chance and recommending achievements based on popularity!"
   ]
  },
  {
   "cell_type": "code",
   "execution_count": 24,
   "metadata": {},
   "outputs": [],
   "source": [
    "def get_ranked_scores_for_user(model, user_sequence, achievement_name_dict, exclude_last_item=True):\n",
    "    # Items the user has already interacted with\n",
    "    user_items = np.trim_zeros(user_sequence, 'f')\n",
    "    # Items not in the users set that we want to retrieve scores for\n",
    "    if exclude_last_item:\n",
    "        desired_items = [key for key, value in achievement_name_dict.items() if value not in user_items[:-1]]\n",
    "    else:\n",
    "        desired_items = [key for key, value in achievement_name_dict.items() if value not in user_items[:]]\n",
    "\n",
    "    scores = model.predict(sequences=user_sequence)\n",
    "    scores_series = pd.Series(scores[1:], index=achievement_name_dict.keys(), name='ScoresSeries')\n",
    "    scores_series = scores_series.loc[desired_items]\n",
    "    scores_series = scores_series.sort_values(ascending=False)\n",
    "\n",
    "    return scores_series"
   ]
  },
  {
   "cell_type": "code",
   "execution_count": 31,
   "metadata": {},
   "outputs": [
    {
     "data": {
      "text/html": [
       "<div>\n",
       "<style scoped>\n",
       "    .dataframe tbody tr th:only-of-type {\n",
       "        vertical-align: middle;\n",
       "    }\n",
       "\n",
       "    .dataframe tbody tr th {\n",
       "        vertical-align: top;\n",
       "    }\n",
       "\n",
       "    .dataframe thead th {\n",
       "        text-align: right;\n",
       "    }\n",
       "</style>\n",
       "<table border=\"1\" class=\"dataframe\">\n",
       "  <thead>\n",
       "    <tr style=\"text-align: right;\">\n",
       "      <th></th>\n",
       "      <th>score</th>\n",
       "      <th>name</th>\n",
       "      <th>displayName</th>\n",
       "      <th>description</th>\n",
       "    </tr>\n",
       "  </thead>\n",
       "  <tbody>\n",
       "    <tr>\n",
       "      <th>8</th>\n",
       "      <td>1.969900</td>\n",
       "      <td>BG3_Quest09</td>\n",
       "      <td>Roleplayer</td>\n",
       "      <td>Complete ten background goals in a single play...</td>\n",
       "    </tr>\n",
       "    <tr>\n",
       "      <th>11</th>\n",
       "      <td>1.204656</td>\n",
       "      <td>BG3_Quest12</td>\n",
       "      <td>Dig for Victory</td>\n",
       "      <td>Dig up five buried chests in a single playthro...</td>\n",
       "    </tr>\n",
       "    <tr>\n",
       "      <th>1</th>\n",
       "      <td>1.003675</td>\n",
       "      <td>BG3_Quest02</td>\n",
       "      <td>The Plot Thickens</td>\n",
       "      <td>NaN</td>\n",
       "    </tr>\n",
       "    <tr>\n",
       "      <th>45</th>\n",
       "      <td>0.818080</td>\n",
       "      <td>BG3_Quest46</td>\n",
       "      <td>Repairing the Weave</td>\n",
       "      <td>NaN</td>\n",
       "    </tr>\n",
       "    <tr>\n",
       "      <th>32</th>\n",
       "      <td>0.748165</td>\n",
       "      <td>BG3_Quest33</td>\n",
       "      <td>A Grym Fate</td>\n",
       "      <td>NaN</td>\n",
       "    </tr>\n",
       "    <tr>\n",
       "      <th>40</th>\n",
       "      <td>0.741106</td>\n",
       "      <td>BG3_Quest41</td>\n",
       "      <td>Bottoms Up</td>\n",
       "      <td>Long Rest using only alcohol - a time-honoured...</td>\n",
       "    </tr>\n",
       "    <tr>\n",
       "      <th>42</th>\n",
       "      <td>0.693325</td>\n",
       "      <td>BG3_Quest43</td>\n",
       "      <td>Bookworm</td>\n",
       "      <td>Read 100 different books in a single playthrou...</td>\n",
       "    </tr>\n",
       "    <tr>\n",
       "      <th>16</th>\n",
       "      <td>0.620013</td>\n",
       "      <td>BG3_Quest17</td>\n",
       "      <td>Homebrewer</td>\n",
       "      <td>Create three unique alchemical solutions in a ...</td>\n",
       "    </tr>\n",
       "    <tr>\n",
       "      <th>17</th>\n",
       "      <td>0.611072</td>\n",
       "      <td>BG3_Quest18</td>\n",
       "      <td>You Have Two Hands for a Reason</td>\n",
       "      <td>NaN</td>\n",
       "    </tr>\n",
       "    <tr>\n",
       "      <th>19</th>\n",
       "      <td>0.550706</td>\n",
       "      <td>BG3_Quest20</td>\n",
       "      <td>Forged in Blood and Fire</td>\n",
       "      <td>NaN</td>\n",
       "    </tr>\n",
       "  </tbody>\n",
       "</table>\n",
       "</div>"
      ],
      "text/plain": [
       "       score         name                      displayName  \\\n",
       "8   1.969900  BG3_Quest09                       Roleplayer   \n",
       "11  1.204656  BG3_Quest12                  Dig for Victory   \n",
       "1   1.003675  BG3_Quest02                The Plot Thickens   \n",
       "45  0.818080  BG3_Quest46              Repairing the Weave   \n",
       "32  0.748165  BG3_Quest33                      A Grym Fate   \n",
       "40  0.741106  BG3_Quest41                       Bottoms Up   \n",
       "42  0.693325  BG3_Quest43                         Bookworm   \n",
       "16  0.620013  BG3_Quest17                       Homebrewer   \n",
       "17  0.611072  BG3_Quest18  You Have Two Hands for a Reason   \n",
       "19  0.550706  BG3_Quest20         Forged in Blood and Fire   \n",
       "\n",
       "                                          description  \n",
       "8   Complete ten background goals in a single play...  \n",
       "11  Dig up five buried chests in a single playthro...  \n",
       "1                                                 NaN  \n",
       "45                                                NaN  \n",
       "32                                                NaN  \n",
       "40  Long Rest using only alcohol - a time-honoured...  \n",
       "42  Read 100 different books in a single playthrou...  \n",
       "16  Create three unique alchemical solutions in a ...  \n",
       "17                                                NaN  \n",
       "19                                                NaN  "
      ]
     },
     "execution_count": 31,
     "metadata": {},
     "output_type": "execute_result"
    }
   ],
   "source": [
    "# Retrieve the ranked scores \n",
    "scores_series = get_ranked_scores_for_user(model, test_sequences.sequences[0], achievement_name_dict)\n",
    "pd.merge(scores_series, df_achievements, right_on='name', left_index=True, how='left').rename(columns={'ScoresSeries': 'score'}).head(10)"
   ]
  },
  {
   "cell_type": "code",
   "execution_count": 32,
   "metadata": {},
   "outputs": [
    {
     "data": {
      "text/plain": [
       "['BG3_Quest01',\n",
       " 'BG3_Quest29',\n",
       " 'BG3_Quest13',\n",
       " 'BG3_Quest50',\n",
       " 'BG3_Quest42',\n",
       " 'BG3_Quest10',\n",
       " 'BG3_Quest32',\n",
       " 'BG3_Quest45',\n",
       " 'BG3_Quest11',\n",
       " 'BG3_Quest30',\n",
       " 'BG3_Quest31']"
      ]
     },
     "execution_count": 32,
     "metadata": {},
     "output_type": "execute_result"
    }
   ],
   "source": [
    "# Get the achievement names for a given user sequence, preserving sequence order\n",
    "achievement_names_list = [key for item_number in np.trim_zeros(test_sequences.sequences[0], 'f') for key, value in achievement_name_dict.items() if value == item_number]\n",
    "achievement_names_list"
   ]
  },
  {
   "cell_type": "markdown",
   "metadata": {},
   "source": [
    "### Markov Model\n",
    "\n",
    "How does this compare to a Markov model which recommends the achievement which was most frequently unlocked after the player's last achievement?"
   ]
  },
  {
   "cell_type": "code",
   "execution_count": 30,
   "metadata": {},
   "outputs": [],
   "source": [
    "# Build a transition matrix for the Markov model:\n",
    "def build_transition_matrix(train_sequences, num_achievements):\n",
    "    # Initialize a transition matrix with zeros\n",
    "    transition_matrix = np.zeros((num_achievements, num_achievements))\n",
    "\n",
    "    # Count transitions in the training sequences\n",
    "    for sequence in train_sequences:\n",
    "        # Remove leading zeros and keep unique elements\n",
    "        sequence = np.trim_zeros(sequence, 'f')\n",
    "\n",
    "        for i in range(len(sequence) - 1):\n",
    "            current_state = sequence[i]\n",
    "            next_state = sequence[i + 1]\n",
    "\n",
    "            # Check if current_state and next_state are within the bounds\n",
    "            if 0 <= current_state < num_achievements and 0 <= next_state < num_achievements:\n",
    "                transition_matrix[current_state, next_state] += 1\n",
    "            else:\n",
    "                pass\n",
    "                # print(f\"Ignored out-of-bounds transition: {current_state} -> {next_state}\")\n",
    "\n",
    "    # Normalize the rows to get probabilities\n",
    "    row_sums = transition_matrix.sum(axis=1, keepdims=True)\n",
    "    transition_matrix = transition_matrix / row_sums\n",
    "    transition_matrix = np.nan_to_num(transition_matrix, nan=0.0)\n",
    "\n",
    "    return transition_matrix\n",
    "\n",
    "def predict_next_achievements(transition_matrix, current_achievement):\n",
    "    # Check if current_achievement is within the bounds\n",
    "    if 0 <= current_achievement < transition_matrix.shape[0]:\n",
    "        probabilities = transition_matrix[current_achievement, :]\n",
    "        next_achievements = np.argsort(probabilities)[::-1]\n",
    "        return next_achievements\n",
    "    else:\n",
    "        return None  # Indicate that the current achievement is out of bounds\n",
    "\n",
    "def precision_recall_at_k(user_sequence, predicted_achievements, true_next_achievement, k):\n",
    "    # Keep only the top-k predicted achievements\n",
    "    top_k_predictions = predicted_achievements[:k]\n",
    "\n",
    "    # Compute precision at k\n",
    "    precision_at_k = len(np.intersect1d(top_k_predictions, [true_next_achievement])) / k\n",
    "\n",
    "    # Compute recall at k\n",
    "    recall_at_k = len(np.intersect1d(top_k_predictions, [true_next_achievement])) / len(user_sequence)\n",
    "\n",
    "    return precision_at_k, recall_at_k\n",
    "\n",
    "def compute_mrr(predicted_achievement, true_next_achievement, num_achievements):\n",
    "    # Check if predicted_achievement is in the range of valid achievements\n",
    "    if 0 <= predicted_achievement < num_achievements:\n",
    "        # Check if true_next_achievement is in the top 1 predictions\n",
    "        if predicted_achievement == true_next_achievement:\n",
    "            return 1.0\n",
    "        else:\n",
    "            return 0.0\n",
    "    else:\n",
    "        return None  # Indicate that the predicted achievement is out of bounds\n",
    "\n",
    "# Return mean mrr, precision at k and recall at k scores for the Markov model\n",
    "def evaluate_markov_model(transition_matrix, test_sequences, k=1):\n",
    "    mrr_scores = []\n",
    "    precision_scores = []\n",
    "    recall_scores = []\n",
    "\n",
    "    for user_sequence in test_sequences:\n",
    "        # Remove leading zeros and keep unique elements\n",
    "        user_sequence = np.trim_zeros(user_sequence, 'f')\n",
    "\n",
    "        for i in range(len(user_sequence) - 1):\n",
    "            current_achievement = user_sequence[i]\n",
    "            true_next_achievement = user_sequence[i + 1]\n",
    "\n",
    "            # Predict the next achievement using the transition matrix\n",
    "            predicted_achievements = predict_next_achievements(transition_matrix, current_achievement)\n",
    "\n",
    "            # Check if predicted_achievement is not None (within bounds)\n",
    "            if predicted_achievements is not None:\n",
    "                # Evaluate MRR\n",
    "                predicted_next_achievement = predicted_achievements[0]\n",
    "                mrr_score = compute_mrr(predicted_next_achievement, true_next_achievement, transition_matrix.shape[0])\n",
    "                if mrr_score is not None:\n",
    "                    mrr_scores.append(mrr_score)\n",
    "\n",
    "                # Evaluate precision and recall at k\n",
    "                precision_at_k, recall_at_k = precision_recall_at_k(user_sequence, predicted_achievements, true_next_achievement, k)\n",
    "                precision_scores.append(precision_at_k)\n",
    "                recall_scores.append(recall_at_k)\n",
    "\n",
    "    return np.mean(mrr_scores), np.mean(precision_scores), np.mean(recall_scores)"
   ]
  },
  {
   "cell_type": "code",
   "execution_count": 31,
   "metadata": {},
   "outputs": [
    {
     "name": "stderr",
     "output_type": "stream",
     "text": [
      "/tmp/ipykernel_48770/4090040212.py:24: RuntimeWarning: invalid value encountered in divide\n",
      "  transition_matrix = transition_matrix / row_sums\n"
     ]
    },
    {
     "name": "stdout",
     "output_type": "stream",
     "text": [
      "MRR: 0.21684397163120567\n",
      "Precision at 1: 0.21684397163120567\n",
      "Recall at 1: 0.00989616914638849\n"
     ]
    }
   ],
   "source": [
    "# Number of unique achievements\n",
    "num_achievements = len(achievement_name_dict.values())\n",
    "\n",
    "# Build the transition matrix\n",
    "transition_matrix = build_transition_matrix(train_sequences.sequences, num_achievements)\n",
    "\n",
    "# Evaluate the Markov model\n",
    "mrr, precision, recall = evaluate_markov_model(transition_matrix, test_sequences.sequences, k=1)\n",
    "\n",
    "print(f\"MRR: {mrr}\")\n",
    "print(f\"Precision at 1: {precision}\")\n",
    "print(f\"Recall at 1: {recall}\")"
   ]
  }
 ],
 "metadata": {
  "kernelspec": {
   "display_name": "pydata",
   "language": "python",
   "name": "python3"
  },
  "language_info": {
   "codemirror_mode": {
    "name": "ipython",
    "version": 3
   },
   "file_extension": ".py",
   "mimetype": "text/x-python",
   "name": "python",
   "nbconvert_exporter": "python",
   "pygments_lexer": "ipython3",
   "version": "3.11.5"
  }
 },
 "nbformat": 4,
 "nbformat_minor": 2
}
